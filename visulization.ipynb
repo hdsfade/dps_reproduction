{
 "cells": [
  {
   "cell_type": "code",
   "execution_count": null,
   "metadata": {
    "vscode": {
     "languageId": "plaintext"
    }
   },
   "outputs": [],
   "source": [
    "import matplotlib.pyplot as plt\n",
    "import matplotlib.image as mpimg\n",
    "import os\n",
    "root_dir = 'results/'\n",
    "image_name = '00001.png'\n",
    "task = 'inpainting'\n",
    "n = 3\n",
    "\n",
    "fig, axs = plt.subplots(n, 3, figsize=(10, 10))\n",
    "for i in range(n):\n",
    "    image_name = str(i).zfill(5) +'.png'\n",
    "\n",
    "    measurement_image = mpimg.imread(os.path.join('results/ps', task, 'input', image_name))\n",
    "    ps_image = mpimg.imread(os.path.join('results/ps', task, 'recon', image_name))   \n",
    "    ground_truth_image = mpimg.imread(os.path.join('results/ps', task, 'label', image_name))\n",
    "\n",
    "    axs[i, 0].imshow(measurement_image)\n",
    "    axs[i, 0].set_title('Measurement')\n",
    "    axs[i, 0].axis('off')\n",
    "\n",
    "    axs[i, 1].imshow(ps_image)\n",
    "    axs[i, 1].set_title('DPS')\n",
    "    axs[i, 1].axis('off')\n",
    "\n",
    "    axs[i, 2].imshow(ground_truth_image)\n",
    "    axs[i, 2].set_title('Ground Truth')\n",
    "    axs[i, 2].axis('off')\n",
    "\n",
    "plt.suptitle('Image Comparisons', fontsize=16)\n",
    "\n",
    "plt.tight_layout()\n",
    "plt.subplots_adjust(top=0.88) \n",
    "plt.show()"
   ]
  }
 ],
 "metadata": {
  "language_info": {
   "name": "python"
  }
 },
 "nbformat": 4,
 "nbformat_minor": 2
}
